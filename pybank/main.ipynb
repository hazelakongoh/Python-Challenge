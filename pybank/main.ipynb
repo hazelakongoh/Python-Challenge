{
 "cells": [
  {
   "cell_type": "code",
   "execution_count": 3,
   "id": "753237d4-8bd3-4722-9269-3be84406bf1b",
   "metadata": {},
   "outputs": [],
   "source": [
    "# Import the pathlib and csv library\n",
    "from pathlib import Path\n",
    "import csv\n",
    "\n"
   ]
  },
  {
   "cell_type": "code",
   "execution_count": 4,
   "id": "a9e7d8b1-fad7-4c36-9fe0-b16d549972cc",
   "metadata": {},
   "outputs": [],
   "source": [
    "# Set the file path\n",
    "budget_data_csv = Path('./Resources/budget_data.csv')\n",
    "\n",
    "\n",
    "\n"
   ]
  },
  {
   "cell_type": "code",
   "execution_count": 21,
   "id": "300ad359-459b-4755-9f0e-c5b3e873defc",
   "metadata": {},
   "outputs": [
    {
     "name": "stdout",
     "output_type": "stream",
     "text": [
      "86\n"
     ]
    }
   ],
   "source": [
    "with open(budget_data_csv, 'r') as csvfile:\n",
    "    csvreader = csv.reader(csvfile, delimiter=',')\n",
    "    header = next(csvreader)\n",
    "    # print(header)\n",
    "    counter = 0\n",
    "    for row in csvreader:\n",
    "        counter = counter +1\n",
    "    print(counter)\n",
    "        \n",
    "        \n",
    "    "
   ]
  },
  {
   "cell_type": "code",
   "execution_count": 29,
   "id": "22d579f8-2e38-4b88-a8c5-b1b420180f54",
   "metadata": {},
   "outputs": [
    {
     "name": "stdout",
     "output_type": "stream",
     "text": [
      "38382578\n"
     ]
    }
   ],
   "source": [
    "with open(budget_data_csv, 'r') as csvfile:\n",
    "    csvreader = csv.reader(csvfile, delimiter=',')\n",
    "    header = next(csvreader)\n",
    "    # print(header)\n",
    "    add = 0\n",
    "    for row in csvreader:\n",
    "        add = add +int(row[1])\n",
    "    print(add)\n",
    "        "
   ]
  },
  {
   "cell_type": "code",
   "execution_count": 25,
   "id": "d80ef2ef-e833-4e4d-9519-dc6bed3e5245",
   "metadata": {},
   "outputs": [
    {
     "name": "stdout",
     "output_type": "stream",
     "text": [
      "Financial Analysis\n",
      "----------------------------\n",
      "Total Months : 86\n"
     ]
    }
   ],
   "source": [
    "\n",
    "# total number of months\n",
    "print(\"Financial Analysis\")\n",
    "print( \"----------------------------\")\n",
    "print(f\"Total Months : {counter}\")\n",
    "\n"
   ]
  },
  {
   "cell_type": "code",
   "execution_count": null,
   "id": "3c8bf8e3-0a5d-414b-8fd1-a02a0f7cbcbb",
   "metadata": {},
   "outputs": [],
   "source": [
    "# net total amount of profit/losses over the entire period\n",
    "\n",
    "sum_profit = 0\n",
    "for x in budget_data_df[\"Profit/Losses\"]:\n",
    "    sum_profit += x\n",
    "print(f\"Net Tota"
   ]
  },
  {
   "cell_type": "code",
   "execution_count": null,
   "id": "651bd013-7ccd-4493-8227-06c884cb46a6",
   "metadata": {},
   "outputs": [],
   "source": [
    "# the average of the changes in profit and losses over the entire period\n",
    " average_changes_profit/losses = sum_revenue_changes/len"
   ]
  }
 ],
 "metadata": {
  "kernelspec": {
   "display_name": "Python 3",
   "language": "python",
   "name": "python3"
  },
  "language_info": {
   "codemirror_mode": {
    "name": "ipython",
    "version": 3
   },
   "file_extension": ".py",
   "mimetype": "text/x-python",
   "name": "python",
   "nbconvert_exporter": "python",
   "pygments_lexer": "ipython3",
   "version": "3.8.8"
  }
 },
 "nbformat": 4,
 "nbformat_minor": 5
}
