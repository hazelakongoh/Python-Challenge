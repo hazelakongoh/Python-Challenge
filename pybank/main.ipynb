{
 "cells": [
  {
   "cell_type": "code",
   "execution_count": 6,
   "id": "753237d4-8bd3-4722-9269-3be84406bf1b",
   "metadata": {},
   "outputs": [],
   "source": [
    "# Import the pathlib and csv library\n",
    "from pathlib import Path\n",
    "import pandas as pd\n"
   ]
  },
  {
   "cell_type": "code",
   "execution_count": 7,
   "id": "a9e7d8b1-fad7-4c36-9fe0-b16d549972cc",
   "metadata": {},
   "outputs": [],
   "source": [
    "# Set the file path\n",
    "budget_data_csv = Path('./Resources/budget_data.csv')\n",
    "budget_data_df = pd.read_csv(budget_data_csv)\n",
    "\n",
    "\n"
   ]
  },
  {
   "cell_type": "code",
   "execution_count": null,
   "id": "300ad359-459b-4755-9f0e-c5b3e873defc",
   "metadata": {},
   "outputs": [],
   "source": [
    "budget_data_"
   ]
  }
 ],
 "metadata": {
  "kernelspec": {
   "display_name": "Python 3",
   "language": "python",
   "name": "python3"
  },
  "language_info": {
   "codemirror_mode": {
    "name": "ipython",
    "version": 3
   },
   "file_extension": ".py",
   "mimetype": "text/x-python",
   "name": "python",
   "nbconvert_exporter": "python",
   "pygments_lexer": "ipython3",
   "version": "3.8.8"
  }
 },
 "nbformat": 4,
 "nbformat_minor": 5
}
