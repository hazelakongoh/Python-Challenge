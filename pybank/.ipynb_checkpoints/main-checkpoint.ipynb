{
 "cells": [
  {
   "cell_type": "code",
   "execution_count": 1,
   "id": "753237d4-8bd3-4722-9269-3be84406bf1b",
   "metadata": {},
   "outputs": [],
   "source": [
    "# Import the pathlib and csv library\n",
    "from pathlib import Path\n",
    "import csv\n",
    "\n"
   ]
  },
  {
   "cell_type": "code",
   "execution_count": 2,
   "id": "a9e7d8b1-fad7-4c36-9fe0-b16d549972cc",
   "metadata": {},
   "outputs": [],
   "source": [
    "# Set the file path\n",
    "budget_data_csv = Path('./Resources/budget_data.csv')\n",
    "\n",
    "\n",
    "\n"
   ]
  },
  {
   "cell_type": "code",
   "execution_count": 3,
   "id": "300ad359-459b-4755-9f0e-c5b3e873defc",
   "metadata": {},
   "outputs": [
    {
     "name": "stdout",
     "output_type": "stream",
     "text": [
      "86\n"
     ]
    }
   ],
   "source": [
    "with open(budget_data_csv, 'r') as csvfile:\n",
    "    csvreader = csv.reader(csvfile, delimiter=',')\n",
    "    header = next(csvreader)\n",
    "    # print(header)\n",
    "    counter = 0\n",
    "    for row in csvreader:\n",
    "        counter = counter +1\n",
    "    print(counter)\n",
    "        \n",
    "        \n",
    "    "
   ]
  },
  {
   "cell_type": "code",
   "execution_count": 4,
   "id": "22d579f8-2e38-4b88-a8c5-b1b420180f54",
   "metadata": {},
   "outputs": [
    {
     "name": "stdout",
     "output_type": "stream",
     "text": [
      "38382578\n"
     ]
    }
   ],
   "source": [
    "# net total amount of profit/losses over the entire period\n",
    "with open(budget_data_csv, 'r') as csvfile:\n",
    "    csvreader = csv.reader(csvfile, delimiter=',')\n",
    "    header = next(csvreader)\n",
    "    # print(header)\n",
    "    add = 0\n",
    "    for row in csvreader:\n",
    "        add = add +int(row[1])\n",
    "    print(add)\n",
    "        "
   ]
  },
  {
   "cell_type": "code",
   "execution_count": 5,
   "id": "d80ef2ef-e833-4e4d-9519-dc6bed3e5245",
   "metadata": {},
   "outputs": [
    {
     "name": "stdout",
     "output_type": "stream",
     "text": [
      "Financial Analysis\n",
      "----------------------------\n",
      "Total Months : 86\n"
     ]
    }
   ],
   "source": [
    "\n",
    "# total number of months\n",
    "print(\"Financial Analysis\")\n",
    "print( \"----------------------------\")\n",
    "print(f\"Total Months : {counter}\")\n",
    "\n"
   ]
  },
  {
   "cell_type": "code",
   "execution_count": 36,
   "id": "3de31155-de70-4a69-a60e-b28b5268d447",
   "metadata": {},
   "outputs": [
    {
     "data": {
      "text/plain": [
       "-2315.1176470588234"
      ]
     },
     "execution_count": 36,
     "metadata": {},
     "output_type": "execute_result"
    }
   ],
   "source": [
    "# average change in revenue\n",
    "with open(budget_data_csv, 'r') as csvfile:\n",
    "    csvreader = csv.reader(csvfile, delimiter=',')\n",
    "    header = next(csvreader)\n",
    "    # print(header)\n",
    "    prev_net = 0\n",
    "    net_change = []\n",
    "    for row in csvreader:\n",
    "        if prev_net == 0:\n",
    "            prev_net = int(row[1])\n",
    "        else :\n",
    "            net_change.append(int(row[1]) - prev_net)\n",
    "            prev_net = int(row[1])\n",
    "n = 0 \n",
    "for i in net_change:\n",
    "    n = n+i\n",
    "z = n/len(net_change)\n",
    "z\n",
    "#  # Track the net change\\n\",\n",
    "#     \"        net_change = int(row[1]) - prev_net\\n\",\n",
    "#     \"        prev_net = int(row[1])\\n\",\n",
    "#     \"        net_change_list = net_change_list + [net_change]\\n\",\n",
    "#     \"        month_of_change = month_of_change + [row[0]]\\n\",\n",
    "#     \"\\n\",          \n"
   ]
  },
  {
   "cell_type": "code",
   "execution_count": 40,
   "id": "b7f00942-6f48-48bb-a9e8-ed2afa150f03",
   "metadata": {},
   "outputs": [
    {
     "name": "stdout",
     "output_type": "stream",
     "text": [
      "-2196167 1926159\n"
     ]
    }
   ],
   "source": [
    "# with open(budget_data_csv, 'r') as csvfile:\n",
    "#     csvreader = csv.reader(csvfile, delimiter=',')\n",
    "#     header = next(csvreader)\n",
    "\n",
    "a = 0\n",
    "b = 0\n",
    "for row in net_change:\n",
    "    \n",
    "    if a>(row):\n",
    "        a = (row)\n",
    "    elif b <(row):\n",
    "        b = (row)\n",
    "print(a,b)\n"
   ]
  },
  {
   "cell_type": "code",
   "execution_count": null,
   "id": "c425072a-5cb2-4fda-ad59-7e495bb0a741",
   "metadata": {},
   "outputs": [],
   "source": []
  }
 ],
 "metadata": {
  "kernelspec": {
   "display_name": "Python 3",
   "language": "python",
   "name": "python3"
  },
  "language_info": {
   "codemirror_mode": {
    "name": "ipython",
    "version": 3
   },
   "file_extension": ".py",
   "mimetype": "text/x-python",
   "name": "python",
   "nbconvert_exporter": "python",
   "pygments_lexer": "ipython3",
   "version": "3.8.8"
  }
 },
 "nbformat": 4,
 "nbformat_minor": 5
}
